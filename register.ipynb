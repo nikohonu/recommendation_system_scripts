{
 "cells": [
  {
   "cell_type": "code",
   "execution_count": 2,
   "metadata": {},
   "outputs": [
    {
     "name": "stdout",
     "output_type": "stream",
     "text": [
      "bad 1\n",
      "bad 1\n"
     ]
    }
   ],
   "source": [
    "import json\n",
    "import pathlib\n",
    "import random\n",
    "import time\n",
    "\n",
    "import requests\n",
    "\n",
    "START = 76561198083927293\n",
    "END = 76561198899999999\n",
    "result_count = 0\n",
    "for _ in range(12000):\n",
    "    steam_id = random.randrange(START, END)\n",
    "    player = None\n",
    "    response = requests.get(\n",
    "        f\"http://127.0.0.1:5000/steam/get-player-summary/{steam_id}\"\n",
    "    )\n",
    "    time.sleep(2)\n",
    "    if response.status_code == 200:\n",
    "        player = response.json()\n",
    "        if player[\"communityvisibilitystate\"] != 3:\n",
    "            continue\n",
    "    else:\n",
    "        continue\n",
    "    response = requests.get(f\"http://127.0.0.1:5000/steam/get-owned-games/{steam_id}\")\n",
    "    time.sleep(2)\n",
    "    if response.status_code != 200:\n",
    "        continue\n",
    "    l = len(response.json())\n",
    "    if l < 5:\n",
    "        print(\"bad\", l)\n",
    "        continue\n",
    "    name = player[\"personaname\"]\n",
    "    profile_url = player[\"profileurl\"]\n",
    "    response = requests.post(\n",
    "        \"http://127.0.0.1:5000/auth/register\",\n",
    "        {\"username\": name, \"password\": \"42774277\", \"steam_profile_url\": profile_url},\n",
    "    )\n",
    "    response = requests.get(f\"http://127.0.0.1:5000/user/{name}/games\")\n",
    "    time.sleep(2)\n",
    "    print(\"ok\", l)\n",
    "    result_count += 1\n",
    "print(result_count)"
   ]
  },
  {
   "cell_type": "code",
   "execution_count": 1,
   "metadata": {},
   "outputs": [
    {
     "name": "stdout",
     "output_type": "stream",
     "text": [
      "37.13559322033898\n",
      "3.305084745762712\n",
      "0.08900045641259699\n",
      "674.1538461538462\n",
      "9.076923076923077\n"
     ]
    }
   ],
   "source": [
    "m = 11 + 11 + 38 + 15 + 16 + 19 + 29 + 13 + 21 + 22\n",
    "s = 4 + 57 + 59 + 19 + 4 + 9 + 33 + 19 + 49 + 39\n",
    "total = m + (s/60)\n",
    "r = 134 + 25 + 217 + 188 + 225 + 260 + 286 + 192 + 332 + 332\n",
    "ok = 2 + 3 + 11 + 8 + 3 + 5 + 9 + 4 + 5 + 9\n",
    "ok_in_r = r / ok\n",
    "ok_in_m = m / ok\n",
    "print(ok_in_r)\n",
    "print(ok_in_m)\n",
    "r_in_m = m/r\n",
    "print(r_in_m)\n",
    "to_half_hour = 60 / r_in_m\n",
    "print(to_half_hour)\n",
    "print(30/ok_in_m)"
   ]
  }
 ],
 "metadata": {
  "kernelspec": {
   "display_name": "Python 3.10.7 64-bit",
   "language": "python",
   "name": "python3"
  },
  "language_info": {
   "codemirror_mode": {
    "name": "ipython",
    "version": 3
   },
   "file_extension": ".py",
   "mimetype": "text/x-python",
   "name": "python",
   "nbconvert_exporter": "python",
   "pygments_lexer": "ipython3",
   "version": "3.10.8"
  },
  "orig_nbformat": 4,
  "vscode": {
   "interpreter": {
    "hash": "e7370f93d1d0cde622a1f8e1c04877d8463912d04d973331ad4851f04de6915a"
   }
  }
 },
 "nbformat": 4,
 "nbformat_minor": 2
}
